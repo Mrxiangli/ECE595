{
 "cells": [
  {
   "cell_type": "markdown",
   "id": "7016b07c",
   "metadata": {},
   "source": [
    "# Homework 2"
   ]
  },
  {
   "cell_type": "code",
   "execution_count": 1,
   "id": "aac6b713",
   "metadata": {},
   "outputs": [],
   "source": [
    "import numpy as np\n",
    "import cvxpy as cp\n",
    "import matplotlib.pyplot as plt\n",
    "import csv"
   ]
  },
  {
   "cell_type": "markdown",
   "id": "cd9574b1",
   "metadata": {},
   "source": [
    "## Exercise 1"
   ]
  },
  {
   "cell_type": "code",
   "execution_count": 2,
   "id": "50fe7067",
   "metadata": {},
   "outputs": [
    {
     "name": "stdout",
     "output_type": "stream",
     "text": [
      "[[2.82  1.563]\n",
      " [2.22  1.716]\n",
      " [2.71  1.484]\n",
      " [2.81  1.651]\n",
      " [2.55  1.548]\n",
      " [2.3   1.665]\n",
      " [3.56  1.564]\n",
      " [3.11  1.676]\n",
      " [2.46  1.69 ]\n",
      " [4.3   1.704]]\n"
     ]
    }
   ],
   "source": [
    "# first 10 entrys of female BMI and stature:\n",
    "female_data = []\n",
    "with open(\"female_train_data.csv\", \"r\") as csv_file:\n",
    "    female_reader = csv.reader(csv_file, delimiter=',')\n",
    "    for row in female_reader:\n",
    "        if row[0] != \"index\":\n",
    "            row[1] = float(row[1])/10\n",
    "            row[2] = float(row[2])/1000\n",
    "            female_data.append([row[1],row[2]])\n",
    "csv_file.close()\n",
    "female_data = np.matrix(female_data)\n",
    "print(female_data[0:10])"
   ]
  },
  {
   "cell_type": "code",
   "execution_count": 3,
   "id": "fef98db2",
   "metadata": {},
   "outputs": [
    {
     "name": "stdout",
     "output_type": "stream",
     "text": [
      "[[3.    1.679]\n",
      " [2.56  1.586]\n",
      " [2.42  1.773]\n",
      " [2.74  1.816]\n",
      " [2.59  1.809]\n",
      " [2.53  1.662]\n",
      " [2.27  1.829]\n",
      " [2.54  1.686]\n",
      " [3.41  1.761]\n",
      " [3.34  1.797]]\n"
     ]
    }
   ],
   "source": [
    "# first 10 entries of male BMI and stature\n",
    "male_data=[]\n",
    "with open(\"male_train_data.csv\", \"r\") as csv_file:\n",
    "    male_reader = csv.reader(csv_file, delimiter=',')\n",
    "    for row in male_reader:\n",
    "        if row[0] != \"index\":\n",
    "            row[1] = float(row[1])/10\n",
    "            row[2] = float(row[2])/1000\n",
    "            male_data.append([row[1],row[2]])\n",
    "csv_file.close()\n",
    "male_data = np.matrix(male_data)\n",
    "print(male_data[0:10])"
   ]
  },
  {
   "cell_type": "markdown",
   "id": "cdd95c03",
   "metadata": {},
   "source": [
    "## Exercise 2"
   ]
  },
  {
   "cell_type": "markdown",
   "id": "48c6fc2d",
   "metadata": {},
   "source": [
    "2-a\n",
    "\n",
    "$||y-X\\theta||^{2} = (y-X\\theta)^{T}(y-X\\theta) = y^{T}y - y^{T}X\\theta-\\theta^{T}X^{T}y - \\theta^{T}X^{T}X\\theta = y^{T}y-2y^{T}X\\theta+\\theta^{T}X^{T}X\\theta$\n",
    "\n",
    "$\\frac{\\partial(y^{T}y-2y^{T}X\\theta+\\theta^{T}X^{T}X\\theta)}{\\partial \\theta} = -2X^{T}y+2X^{T}X\\theta$\n",
    "\n",
    "$-2X^{T}y+2X^{T}X\\theta = 0$\n",
    "\n",
    "$\\theta = (X^{T}X)^{-1}X^{T}y$\n",
    "\n",
    "The conditions that the solution is unique is X is full rank.\n",
    "\n",
    "Two techniques that can be used when $X^{T}X$ is not invertible are:\n",
    "- regularization\n",
    "- pseudo-inversion\n"
   ]
  },
  {
   "cell_type": "code",
   "execution_count": 4,
   "id": "6892480a",
   "metadata": {},
   "outputs": [
    {
     "name": "stdout",
     "output_type": "stream",
     "text": [
      "[[ -0.12339677]\n",
      " [  6.67486843]\n",
      " [-10.7017505 ]]\n"
     ]
    }
   ],
   "source": [
    "#2-b\n",
    "y_male = np.matrix(np.ones(male_data.shape[0])).T\n",
    "y_female = np.matrix(-1*np.ones(female_data.shape[0])).T\n",
    "y = np.vstack((y_male,y_female))\n",
    "X = np.vstack((male_data,female_data))\n",
    "bias = np.matrix(np.ones(y.shape[0]))\n",
    "X=np.vstack((X.T,bias)).T\n",
    "theta_direct_solve = np.linalg.inv((X.T)@X)@(X.T)@y\n",
    "print(theta_direct_solve)"
   ]
  },
  {
   "cell_type": "code",
   "execution_count": 5,
   "id": "a773f9a2",
   "metadata": {},
   "outputs": [
    {
     "name": "stdout",
     "output_type": "stream",
     "text": [
      "[ -0.12339677   6.67486843 -10.7017505 ]\n"
     ]
    }
   ],
   "source": [
    "#2-c\n",
    "d = 3\n",
    "theta = cp.Variable(d)\n",
    "y=np.array(y).reshape((-1,))\n",
    "objective = cp.Minimize(cp.sum_squares(y-X@theta))\n",
    "prob = cp.Problem(objective)\n",
    "prob.solve()\n",
    "theta_vanilla = theta.value\n",
    "print(theta_vanilla)"
   ]
  },
  {
   "cell_type": "markdown",
   "id": "9a08914d",
   "metadata": {},
   "source": [
    "2-d\n",
    "\n",
    "As we derived in the 2-a, the gradient of the optimization function is $-2X^{T}y+2X^{T}X\\theta$\n",
    "\n",
    "We have $f(\\theta) = (y-X\\theta)^{T}(y-X\\theta) = y^{T}y-2y^{T}X\\theta+\\theta^{T}X^{T}X\\theta$\n",
    "\n",
    "Throw the constant term, we end up with $f(\\theta) = -2y^{T}X\\theta+\\theta^{T}X^{T}X\\theta$\n",
    "\n",
    "Now, let's map this to the lecture notes equation where $f(x) = \\frac{1}{2}x^{T}Hx+c^{T}x$\n",
    "\n",
    "we have $H = 2X^{T}X,\\ c=(-2y^{T}X)^{T} = -2X^{T}y$\n",
    "\n",
    "Therefore, $\\alpha^{k}= \\frac{\\nabla(f(\\theta)^{k})^{T}d^{k}}{(d^{k})^{T}Hd^{k}}$\n",
    "\n",
    "$\\nabla f(\\theta) = 2X^{T}X\\theta-2X^{T}y$\n",
    "\n",
    "$d^{k} = \\nabla f$\n",
    "\n",
    "Substitue above into equation, we end up with:\n",
    "\n",
    "$\\alpha^{k} = \\frac{(2X^{T}X\\theta-2X^{T}y)^{T}\\nabla f}{(\\nabla f)^{T}2X^{T}X \\nabla f} =\\frac{\\nabla f^{T}X^{T}X\\theta -y^{T}X\\nabla f}{(\\nabla f)^{T}X^{T}X \\nabla f}$"
   ]
  },
  {
   "cell_type": "code",
   "execution_count": 6,
   "id": "fc9844d2",
   "metadata": {},
   "outputs": [
    {
     "name": "stdout",
     "output_type": "stream",
     "text": [
      "[[ -0.12339677]\n",
      " [  6.67486843]\n",
      " [-10.7017505 ]]\n"
     ]
    }
   ],
   "source": [
    "#2-e\n",
    "d = 3\n",
    "y=np.array(y).reshape((-1,1))\n",
    "theta_grad = np.matrix(np.zeros(d)).T\n",
    "XtX = X.T@X\n",
    "\n",
    "for i in range(50000):\n",
    "    grad =2*XtX@theta_grad - 2*X.T@y\n",
    "    alpha = (grad.T@XtX@theta_grad-y.T@X@grad)/(grad.T@XtX@grad)\n",
    "    theta_grad = theta_grad - np.multiply(alpha[0][0],grad)\n",
    "print(theta_grad)"
   ]
  },
  {
   "cell_type": "code",
   "execution_count": 133,
   "id": "cbe5b1d0",
   "metadata": {},
   "outputs": [
    {
     "name": "stdout",
     "output_type": "stream",
     "text": [
      "[[ -0.12339677]\n",
      " [  6.67486843]\n",
      " [-10.7017505 ]]\n"
     ]
    },
    {
     "data": {
      "image/png": "[encoded data removed]",
      "text/plain": [
       "<Figure size 576x360 with 1 Axes>"
      ]
     },
     "metadata": {
      "needs_background": "light"
     },
     "output_type": "display_data"
    }
   ],
   "source": [
    "#2-f\n",
    "d = 3\n",
    "y=np.array(y).reshape((-1,1))\n",
    "theta_grad = np.matrix(np.zeros(d)).T\n",
    "XtX = X.T@X\n",
    "loss = np.zeros(50000)\n",
    "N=y.shape[0]\n",
    "\n",
    "for i in range(50000):\n",
    "    grad =2*XtX@theta_grad - 2*X.T@y\n",
    "    alpha =((grad.T@XtX@theta_grad-y.T@X@grad)/(grad.T@XtX@grad))\n",
    "    theta_grad = theta_grad - np.multiply(alpha[0][0],grad)\n",
    "    loss[i] = np.linalg.norm(np.dot(X, theta_grad)-y)**2/N\n",
    "    #loss[i] = np.linalg.norm(np.dot(X, theta_grad)-y)**2/N\n",
    "print(theta_grad)\n",
    "fig = plt.figure(figsize = (8,5))   \n",
    "plt.semilogx(loss,linewidth=8)\n",
    "plt.grid()"
   ]
  },
  {
   "cell_type": "code",
   "execution_count": 150,
   "id": "72a23e07",
   "metadata": {},
   "outputs": [
    {
     "name": "stdout",
     "output_type": "stream",
     "text": [
      "[[28754.7541     15495.257172    9383.69      ]\n",
      " [15495.257172    8835.21241756  5326.9006    ]\n",
      " [ 9383.69        5326.9006      3224.        ]]\n",
      "[[ -0.12339677]\n",
      " [  6.67486843]\n",
      " [-10.7017505 ]]\n"
     ]
    }
   ],
   "source": [
    "#2-g\n",
    "d = 3\n",
    "y=np.array(y).reshape((-1,1))\n",
    "theta_grad = np.matrix(np.zeros(d)).T\n",
    "XtX = X.T@X\n",
    "loss_momentum = np.zeros(50000)\n",
    "N=y.shape[0]\n",
    "beta = 0.9\n",
    "dJ_old = np.matrix(np.zeros(d)).T\n",
    "print(XtX)\n",
    "\n",
    "for i in range(50000):\n",
    "    dJ = X.T@X@theta_grad - X.T@y\n",
    "    dd = beta*dJ_old + (1-beta)*dJ\n",
    "    alpha  = ((dJ.T@dd) / (dd.T@XtX@dd))\n",
    "    theta_grad  = theta_grad - alpha[0,0]*dd\n",
    "    dJ_old = dJ\n",
    "    #loss[i] = np.linalg.norm(np.dot(X, theta_grad)-y)\n",
    "    loss_momentum[i] = np.linalg.norm(np.matmul(X, theta_grad)-y)**2/N\n",
    "print(theta_grad)\n"
   ]
  },
  {
   "cell_type": "code",
   "execution_count": 149,
   "id": "7cf8ac71",
   "metadata": {},
   "outputs": [
    {
     "data": {
      "text/plain": [
       "[<matplotlib.lines.Line2D at 0x7fece6805610>]"
      ]
     },
     "execution_count": 149,
     "metadata": {},
     "output_type": "execute_result"
    },
    {
     "data": {
      "image/png": "[encoded data removed]",
      "text/plain": [
       "<Figure size 576x360 with 1 Axes>"
      ]
     },
     "metadata": {
      "needs_background": "light"
     },
     "output_type": "display_data"
    }
   ],
   "source": [
    "#2-h\n",
    "fig = plt.figure(figsize = (8,5))   \n",
    "plt.semilogx(loss_momentum,linewidth=8)"
   ]
  },
  {
   "cell_type": "markdown",
   "id": "5625042f",
   "metadata": {},
   "source": [
    "## Exercise 3"
   ]
  },
  {
   "cell_type": "code",
   "execution_count": 10,
   "id": "f26792c5",
   "metadata": {},
   "outputs": [
    {
     "data": {
      "text/plain": [
       "[<matplotlib.lines.Line2D at 0x7fecfc4c0400>]"
      ]
     },
     "execution_count": 10,
     "metadata": {},
     "output_type": "execute_result"
    },
    {
     "data": {
      "image/png": "[encoded data removed]",
      "text/plain": [
       "<Figure size 432x288 with 1 Axes>"
      ]
     },
     "metadata": {
      "needs_background": "light"
     },
     "output_type": "display_data"
    }
   ],
   "source": [
    "#3-a\n",
    "plt.plot(np.array(male_data.T)[0],np.array(male_data.T)[1],'bo')\n",
    "plt.plot(np.array(female_data.T)[0],np.array(female_data.T)[1],'rx')\n",
    "x_1=np.linspace(1,8,100)\n",
    "x_2 = np.array(-(theta_grad[0]/theta_grad[1])*x_1-(theta_grad[2]/theta_grad[1])).T\n",
    "plt.plot(x_1,x_2,'k',linewidth=4)"
   ]
  },
  {
   "cell_type": "code",
   "execution_count": 127,
   "id": "ab0e4940",
   "metadata": {},
   "outputs": [
    {
     "name": "stdout",
     "output_type": "stream",
     "text": [
      "Type 1 error of classifying male is 0.14171656686626746\n"
     ]
    }
   ],
   "source": [
    "#b-i\n",
    "female_test = []\n",
    "with open(\"female_test_data.csv\", \"r\") as csv_file:\n",
    "    female_reader = csv.reader(csv_file, delimiter=',')\n",
    "    for row in female_reader:\n",
    "        if row[0] != \"index\":\n",
    "            row[1] = float(row[1])/10\n",
    "            row[2] = float(row[2])/1000\n",
    "            female_test.append([row[1],row[2]])\n",
    "csv_file.close()\n",
    "female_test = np.matrix(female_test)\n",
    "bias = np.ones(female_test.shape[0])\n",
    "female_test = np.vstack((female_test.T,bias)).T\n",
    "y_female_test = female_test@theta_grad\n",
    "male_count = np.sum(np.array(y_female_test.T)[0]>0,axis=0)\n",
    "type_1_err = male_count/female_test.shape[0]\n",
    "print(\"Type 1 error of classifying male is {}\".format(type_1_err))\n"
   ]
  },
  {
   "cell_type": "code",
   "execution_count": 128,
   "id": "810f24fc",
   "metadata": {},
   "outputs": [
    {
     "name": "stdout",
     "output_type": "stream",
     "text": [
      "Type 2 error of classifying female is 0.17964071856287425\n"
     ]
    }
   ],
   "source": [
    "#b-ii\n",
    "male_test = []\n",
    "with open(\"male_test_data.csv\", \"r\") as csv_file:\n",
    "    male_reader = csv.reader(csv_file, delimiter=',')\n",
    "    for row in male_reader:\n",
    "        if row[0] != \"index\":\n",
    "            row[1] = float(row[1])/10\n",
    "            row[2] = float(row[2])/1000\n",
    "            male_test.append([row[1],row[2]])\n",
    "csv_file.close()\n",
    "male_test = np.matrix(male_test)\n",
    "bias = np.ones(male_test.shape[0])\n",
    "male_test = np.vstack((male_test.T,bias)).T\n",
    "y_male_test = male_test@theta_grad\n",
    "female_count = np.sum(np.array(y_male_test.T)[0]<0,axis=0)\n",
    "type_2_err = female_count/male_test.shape[0]\n",
    "print(\"Type 2 error of classifying female is {}\".format(type_2_err))"
   ]
  },
  {
   "cell_type": "code",
   "execution_count": 13,
   "id": "3f798e33",
   "metadata": {},
   "outputs": [
    {
     "name": "stdout",
     "output_type": "stream",
     "text": [
      "The precision of this classifier is 0.8526970954356846\n",
      "The recall of this classifier is 0.8203592814371258\n"
     ]
    }
   ],
   "source": [
    "#b-iii\n",
    "TP = np.sum(np.array(y_male_test.T)[0]>0,axis=0)\n",
    "FP = np.sum(np.array(y_female_test.T)[0]>0,axis=0)\n",
    "FN = np.sum(np.array(y_male_test.T)[0]<0,axis=0)\n",
    "precision = TP/(TP+FP)\n",
    "recall = TP/(TP+FN)\n",
    "print(\"The precision of this classifier is {}\".format(precision))\n",
    "print(\"The recall of this classifier is {}\".format(recall))"
   ]
  },
  {
   "cell_type": "markdown",
   "id": "81fc7b37",
   "metadata": {},
   "source": [
    "## Exercise 4"
   ]
  },
  {
   "cell_type": "code",
   "execution_count": 152,
   "id": "d2b12012",
   "metadata": {},
   "outputs": [
    {
     "data": {
      "text/plain": [
       "Text(0, 0.5, '$||X\\\\theta_{\\\\lambda}-y||_{2}^{2}$')"
      ]
     },
     "execution_count": 152,
     "metadata": {},
     "output_type": "execute_result"
    },
    {
     "data": {
      "image/png": "[encoded data removed]",
      "text/plain": [
       "<Figure size 432x288 with 1 Axes>"
      ]
     },
     "metadata": {
      "needs_background": "light"
     },
     "output_type": "display_data"
    }
   ],
   "source": [
    "#4-a\n",
    "lamda = np.arange(0.1,10,0.1)\n",
    "y_male = np.matrix(np.ones(male_data.shape[0])).T\n",
    "y_female = np.matrix(-1*np.ones(female_data.shape[0])).T\n",
    "y = np.vstack((y_male,y_female))\n",
    "X = np.vstack((male_data,female_data))\n",
    "bias = np.matrix(np.ones(y.shape[0]))\n",
    "X=np.vstack((X.T,bias)).T\n",
    "N=y.shape[0]\n",
    "\n",
    "theta_norm = []\n",
    "loss_norm = []\n",
    "for each in lamda:\n",
    "    theta_tmp = np.linalg.inv(X.T@X+each*np.eye(X.shape[1]))@X.T@y\n",
    "    norm_tmp = np.linalg.norm(np.dot(X, theta_tmp)-y)**2\n",
    "    norm_theta = np.linalg.norm(theta_tmp)**2\n",
    "    loss_norm.append(norm_tmp)\n",
    "    theta_norm.append(norm_theta)\n",
    "plt.plot(theta_norm,loss_norm)\n",
    "plt.xlabel(r\"$||\\theta||_{2}^{2}$\")\n",
    "plt.ylabel(r\"$||X\\theta_{\\lambda}-y||_{2}^{2}$\")"
   ]
  },
  {
   "cell_type": "code",
   "execution_count": 153,
   "id": "d18768ee",
   "metadata": {},
   "outputs": [
    {
     "data": {
      "text/plain": [
       "Text(0, 0.5, '$||X\\\\theta_{\\\\lambda}-y||_{2}^{2}$')"
      ]
     },
     "execution_count": 153,
     "metadata": {},
     "output_type": "execute_result"
    },
    {
     "data": {
      "image/png": "[encoded data removed]",
      "text/plain": [
       "<Figure size 432x288 with 1 Axes>"
      ]
     },
     "metadata": {
      "needs_background": "light"
     },
     "output_type": "display_data"
    }
   ],
   "source": [
    "plt.plot(lamda,loss_norm)\n",
    "plt.xlabel(r\"$\\lambda$\")\n",
    "plt.ylabel(r\"$||X\\theta_{\\lambda}-y||_{2}^{2}$\")"
   ]
  },
  {
   "cell_type": "code",
   "execution_count": 154,
   "id": "d24d5d7f",
   "metadata": {},
   "outputs": [
    {
     "data": {
      "text/plain": [
       "Text(0, 0.5, '$||\\\\theta||_{2}^{2}$')"
      ]
     },
     "execution_count": 154,
     "metadata": {},
     "output_type": "execute_result"
    },
    {
     "data": {
      "image/png": "[encoded data removed]",
      "text/plain": [
       "<Figure size 432x288 with 1 Axes>"
      ]
     },
     "metadata": {
      "needs_background": "light"
     },
     "output_type": "display_data"
    }
   ],
   "source": [
    "plt.plot(lamda,theta_norm)\n",
    "plt.xlabel(r\"$\\lambda$\")\n",
    "plt.ylabel(r\"$||\\theta||_{2}^{2}$\")"
   ]
  },
  {
   "cell_type": "markdown",
   "id": "fad6bdce",
   "metadata": {},
   "source": [
    "#4-b-i\n",
    "\n",
    "For equation 4, rearrange the constraints, we have \n",
    "\n",
    "$\\underset{\\theta \\in R^{d}}{\\mathrm{argmin}} ||X\\theta-y||_{2}^{2}$, subject to $\\alpha-||\\theta||_{2}^{2}\\geq 0$\n",
    "\n",
    "Lagrangian for 4 is: $\\mathcal{L}(\\theta,\\gamma_{\\alpha}) = ||X\\theta-y||_{2}^{2}-\\gamma_{\\alpha}(\\alpha-||\\theta||_{2}^{2})$\n",
    "\n",
    "For equation 5, rearrange the constraints, we have\n",
    "\n",
    "$\\underset{\\theta \\in R^{d}}{\\mathrm{argmin}} ||\\theta||_{2}^{2}$, subject to $\\epsilon-||X\\theta-y||_{2}^{2}\\geq 0$\n",
    "\n",
    "Lagrangian for 5 is: $\\mathcal{L}(\\theta,\\gamma_{\\epsilon}) = ||\\theta||_{2}^{2}-\\gamma_{\\epsilon}(\\epsilon-||X\\theta-y||_{2}^{2})$"
   ]
  },
  {
   "cell_type": "markdown",
   "id": "c441a34d",
   "metadata": {},
   "source": [
    "#4-b-ii\n",
    "\n",
    "For equation 3, the first order condition is :\n",
    "- $\\nabla_{\\theta}\\mathcal{L}(\\theta,\\lambda)=0$\n",
    "- $||\\theta||_{2}^{2}=0$\n",
    "\n",
    "For equation 4, we have $g(\\theta)=\\alpha - ||\\theta||_{2}^{2}\\geq0$, and the Lagrangian multiplier is $\\gamma_{\\alpha}$, therefore, first order condition is :\n",
    "- $\\nabla_{\\theta}\\mathcal{L}(\\theta,\\gamma_{\\alpha})=0$\n",
    "- $g_{i}(\\theta)\\geq 0$\n",
    "- $\\gamma_{\\alpha_{i}} \\geq 0$\n",
    "- $\\gamma_{\\alpha_{i}}g_{i}(\\theta) = 0$\n",
    "\n",
    "For equation 5, we have $g(\\theta)=\\epsilon - ||X\\theta-y||_{2}^{2}\\geq 0$, and the Lagrangian multiplier is $\\gamma_{\\epsilon}$, therefore, first order condition is :\n",
    "- $\\nabla_{\\theta}\\mathcal{L}(\\theta,\\gamma_{\\epsilon})=0$\n",
    "- $g_{i}(\\theta)\\geq 0$\n",
    "- $\\gamma_{\\epsilon_{i}} \\geq 0$\n",
    "- $\\gamma_{\\epsilon_{i}}g_{i}(\\theta) = 0$\n"
   ]
  },
  {
   "cell_type": "markdown",
   "id": "a7c382aa",
   "metadata": {},
   "source": [
    "#4-b-iii\n",
    "\n",
    "For this question, we will choose an arbitrary $\\lambda=3$ to solve for $\\theta_{\\lambda}$ first from equation 3, then use that to calculate the corrsponding value for $\\alpha$ and $\\gamma_{\\alpha}$. \n",
    "\n",
    "If we take derative for equation 3, we see that\n",
    "\n",
    "$\\nabla_{\\theta}\\mathcal{L}(\\theta,\\lambda) = 2X^{T}X\\theta-2X^{T}y+2\\lambda \\theta$\n",
    "\n",
    "If we take derative of equation 4, we have\n",
    "\n",
    "$\\nabla_{\\theta}\\mathcal{L}(\\theta,\\gamma_{\\alpha}) = 2X^{T}X\\theta-2X^{T}y+2\\gamma_{\\alpha}\\theta$\n",
    "\n",
    "So, it is easy to see that $\\gamma_{\\alpha}$ should be equal to $\\lambda$\n",
    "\n",
    "As shown in the following code, which validate the above claim. Since $\\lambda \\geq 0$, therefore, $\\gamma_{\\alpha} \\geq 0$, which satisfy $\\textbf{Dual Feasibility}$ from KKT.\n",
    "\n",
    "As $\\lambda = \\gamma_{\\alpha}$, so the same $\\theta_{\\lambda}$ will set $\\nabla_{\\theta}\\mathcal{L}(\\theta,\\gamma_{\\alpha})=0$ as well, which satisfy $\\textbf{Stationarity}$ from KKT\n",
    "\n",
    "For $g(\\theta)\\geq 0$, we have $\\alpha \\geq ||\\theta_{\\lambda}||_{2}^{2}$\n",
    "\n",
    "We also need $\\gamma_{\\alpha}g(\\theta_{\\lambda}) = 0$,since $\\gamma_{\\alpha}>0$, therefore, $\\alpha = ||\\theta_{\\lambda}||_{2}^{2}$, which makes $g(\\theta_{\\lambda}) = 0$\n",
    "\n",
    "Thus, it satisfy $\\textbf{Complementary Slackness}$ and $\\textbf{Primal Feasibility}$ as well\n"
   ]
  },
  {
   "cell_type": "code",
   "execution_count": 155,
   "id": "86fd31f5",
   "metadata": {},
   "outputs": [
    {
     "name": "stdout",
     "output_type": "stream",
     "text": [
      "theta_lambda = [[-0.18073616]\n",
      " [ 5.05702756]\n",
      " [-7.85445029]]\n",
      "theta_norm = 87.29858264746179\n",
      "gamme_alpha = [[3.]]\n"
     ]
    }
   ],
   "source": [
    "#4-b-iii\n",
    "lamda = 3\n",
    "y_male = np.matrix(np.ones(male_data.shape[0])).T\n",
    "y_female = np.matrix(-1*np.ones(female_data.shape[0])).T\n",
    "y = np.vstack((y_male,y_female))\n",
    "X = np.vstack((male_data,female_data))\n",
    "bias = np.matrix(np.ones(y.shape[0]))\n",
    "X=np.vstack((X.T,bias)).T\n",
    "N=y.shape[0]\n",
    "\n",
    "theta_lambda = np.linalg.inv(X.T@X+lamda*np.eye(X.shape[1]))@(X.T)@y\n",
    "norm_loss = np.linalg.norm(np.dot(X, theta_lambda)-y)**2\n",
    "norm_theta = np.linalg.norm(theta_lambda)**2\n",
    "print(\"theta_lambda = {}\".format(theta_lambda))\n",
    "print(\"theta_norm = {}\".format(norm_theta))\n",
    "\n",
    "gamma_alpha = (np.linalg.inv(theta_lambda.T@theta_lambda))@(theta_lambda.T)@(X.T@y-X.T@X@theta_lambda)\n",
    "print(\"gamme_alpha = {}\".format(gamma_alpha))\n"
   ]
  },
  {
   "cell_type": "markdown",
   "id": "9181bd1b",
   "metadata": {},
   "source": [
    "#4-b-iv\n",
    "\n",
    "For this question, we will choose an arbitrary $\\lambda=3$ to solve for $\\theta_{\\lambda}$ first from equation 3, then use that to calculate the corrsponding value for $\\alpha$ and $\\gamma_{\\alpha}$. \n",
    "\n",
    "If we take derative for equation 3, we see that\n",
    "\n",
    "$\\nabla_{\\theta}\\mathcal{L}(\\theta,\\lambda) = 2X^{T}X\\theta-2X^{T}y+2\\lambda \\theta$\n",
    "\n",
    "If we take derative of equation 5, we have\n",
    "\n",
    "$\\nabla_{\\theta}\\mathcal{L}(\\theta,\\gamma_{\\alpha}) = 2\\gamma_{\\epsilon}X^{T}X\\theta -2\\gamma_{\\epsilon}X^{T}y+2\\theta$\n",
    "\n",
    "So, it is easy to see that $\\gamma_{\\epsilon}$ should be equal to $\\frac{1}{\\lambda}$\n",
    "\n",
    "As shown in the following code, which validate the above claim. Since $\\lambda \\geq 0$, therefore, $\\gamma_{\\epsilon} \\geq 0$, which satisfy $\\textbf{Dual Feasibility}$ from KKT.\n",
    "\n",
    "As $\\lambda = \\frac{1}{\\gamma_{\\epsilon}}$, so the same $\\theta_{\\lambda}$ will set $\\nabla_{\\theta}\\mathcal{L}(\\theta,\\gamma_{\\alpha})=0$ as well, which satisfy $\\textbf{Stationarity}$ from KKT\n",
    "\n",
    "For $g(\\theta)\\geq 0$, we have $\\alpha \\geq ||\\theta_{\\lambda}||_{2}^{2}$\n",
    "\n",
    "We also need $\\gamma_{\\epsilon}g(\\theta_{\\lambda}) = 0$, since $\\gamma_{\\epsilon} >0$, therefore, $\\alpha = ||\\theta_{\\lambda}||_{2}^{2}$, which makes $g(\\theta_{\\lambda}) = 0$\n",
    "\n",
    "Thus, it satisfy $\\textbf{Complementary Slackness}$ and $\\textbf{Primal Feasibility}$ as well"
   ]
  },
  {
   "cell_type": "code",
   "execution_count": 156,
   "id": "aeb821e9",
   "metadata": {},
   "outputs": [
    {
     "name": "stdout",
     "output_type": "stream",
     "text": [
      "theta_lambda = [[-0.18073616]\n",
      " [ 5.05702756]\n",
      " [-7.85445029]]\n",
      "theta_norm = 87.29858264746179\n",
      "gradient of equation 5 at gamme_epsilon = [[8.08617062e-12]\n",
      " [5.36726219e-12]\n",
      " [9.56745794e-12]]\n",
      "gamme_epsilon = 0.3333333333333333\n"
     ]
    }
   ],
   "source": [
    "#4-b-iv\n",
    "lamda = 3\n",
    "y_male = np.matrix(np.ones(male_data.shape[0])).T\n",
    "y_female = np.matrix(-1*np.ones(female_data.shape[0])).T\n",
    "y = np.vstack((y_male,y_female))\n",
    "X = np.vstack((male_data,female_data))\n",
    "bias = np.matrix(np.ones(y.shape[0]))\n",
    "X=np.vstack((X.T,bias)).T\n",
    "N=y.shape[0]\n",
    "\n",
    "theta_lambda = np.linalg.inv(X.T@X+lamda*np.eye(X.shape[1]))@(X.T)@y\n",
    "norm_loss = np.linalg.norm(np.dot(X, theta_lambda)-y)**2\n",
    "norm_theta = np.linalg.norm(theta_lambda)**2\n",
    "gamma_epsilon = 1/lamda\n",
    "print(\"theta_lambda = {}\".format(theta_lambda))\n",
    "print(\"theta_norm = {}\".format(norm_theta))\n",
    "print(\"gradient of equation 5 at gamme_epsilon = {}\".format(gamma_epsilon*X.T@X@theta_lambda-gamma_epsilon*X.T@y+theta_lambda))\n",
    "print(\"gamme_epsilon = {}\".format(gamma_epsilon))"
   ]
  },
  {
   "cell_type": "markdown",
   "id": "702cc6ca",
   "metadata": {},
   "source": [
    "#4-b-v\n",
    "\n",
    "As we have already shown in 4-b-iii, when we fix $\\lambda=3$, with $\\theta_{\\lambda} = \\begin{bmatrix}-0.18073616&5.05702756&-7.85445029\\end{bmatrix}^{T}$, $\\alpha = ||\\theta_{\\lambda}||_{2}^{2}=87.29858264746179$, $\\gamma_{\\alpha} = 3$, $\\theta_{\\lambda}$ satisfy KKT, which is only the first order necessary condition. To show that $\\theta_{\\lambda}$ is the solution for equation 4, we need to show that it satisfy the second order optimality, therefore we take the second derative of equation 4 and end up with\n",
    "\n",
    "$\\nabla_{\\theta}^{2}\\mathcal{L}(\\theta,\\gamma_{\\alpha}) = 2X^{T}X+2\\gamma_{\\alpha}I$\n",
    "\n",
    "now we subsititue the $\\gamma_{\\alpha}=\\lambda=3$ into the equation, we can calculate the second order optimal expression as below. Then we do an eigen decomposition and see that all eigen value are non-negative, which indicates that $d^{T}(2X^{T}X+2\\gamma_{\\alpha}I)d>0 \\ \\forall d$, Therefore, the second order of optimality is satified by $\\theta_{\\lambda}$ as well. So $\\theta_{\\lambda}$ is the solution for equation 4."
   ]
  },
  {
   "cell_type": "code",
   "execution_count": 158,
   "id": "ef3315fd",
   "metadata": {},
   "outputs": [
    {
     "name": "stdout",
     "output_type": "stream",
     "text": [
      "(array([8.07066531e+04, 9.16203292e+02, 2.30766327e+01]), matrix([[ 0.84223101,  0.53880977, -0.01819241],\n",
      "        [ 0.46127391, -0.73767815, -0.49300844],\n",
      "        [ 0.27905791, -0.40683531,  0.8698343 ]]))\n"
     ]
    }
   ],
   "source": [
    "#4-b-v\n",
    "second_order = 2*X.T@X+2*lamda*np.eye(X.shape[1])\n",
    "print(np.linalg.eig(second_order))"
   ]
  }
 ],
 "metadata": {
  "kernelspec": {
   "display_name": "Python 3",
   "language": "python",
   "name": "python3"
  },
  "language_info": {
   "codemirror_mode": {
    "name": "ipython",
    "version": 3
   },
   "file_extension": ".py",
   "mimetype": "text/x-python",
   "name": "python",
   "nbconvert_exporter": "python",
   "pygments_lexer": "ipython3",
   "version": "3.8.3"
  }
 },
 "nbformat": 4,
 "nbformat_minor": 5
}
