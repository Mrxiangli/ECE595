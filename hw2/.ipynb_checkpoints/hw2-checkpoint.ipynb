{
 "cells": [
  {
   "cell_type": "markdown",
   "id": "2c1af5a5",
   "metadata": {},
   "source": [
    "# Homework 2"
   ]
  },
  {
   "cell_type": "code",
   "execution_count": 186,
   "id": "a79e781c",
   "metadata": {},
   "outputs": [],
   "source": [
    "import cvxpy as cp\n",
    "import numpy as np\n",
    "import matplotlib.pyplot as plt\n",
    "import csv"
   ]
  },
  {
   "cell_type": "markdown",
   "id": "f02f7c30",
   "metadata": {},
   "source": [
    "## Exercise 1"
   ]
  },
  {
   "cell_type": "code",
   "execution_count": 194,
   "id": "cd5751ac",
   "metadata": {},
   "outputs": [
    {
     "name": "stdout",
     "output_type": "stream",
     "text": [
      "[[2.82  1.563]\n",
      " [2.22  1.716]\n",
      " [2.71  1.484]\n",
      " [2.81  1.651]\n",
      " [2.55  1.548]\n",
      " [2.3   1.665]\n",
      " [3.56  1.564]\n",
      " [3.11  1.676]\n",
      " [2.46  1.69 ]\n",
      " [4.3   1.704]]\n"
     ]
    }
   ],
   "source": [
    "# first 10 entrys of female BMI and stature:\n",
    "female_data = []\n",
    "with open(\"female_train_data.csv\", \"r\") as csv_file:\n",
    "    female_reader = csv.reader(csv_file, delimiter=',')\n",
    "    for row in female_reader:\n",
    "        if row[0] != \"index\":\n",
    "            row[1] = float(row[1])/10\n",
    "            row[2] = float(row[2])/1000\n",
    "            female_data.append([row[1],row[2]])\n",
    "csv_file.close()\n",
    "female_data = np.matrix(female_data)\n",
    "print(female_data[0:10])"
   ]
  },
  {
   "cell_type": "code",
   "execution_count": 195,
   "id": "4833a08a",
   "metadata": {},
   "outputs": [
    {
     "name": "stdout",
     "output_type": "stream",
     "text": [
      "[[3.    1.679]\n",
      " [2.56  1.586]\n",
      " [2.42  1.773]\n",
      " [2.74  1.816]\n",
      " [2.59  1.809]\n",
      " [2.53  1.662]\n",
      " [2.27  1.829]\n",
      " [2.54  1.686]\n",
      " [3.41  1.761]\n",
      " [3.34  1.797]]\n"
     ]
    }
   ],
   "source": [
    "# first 10 entries of male BMI and stature\n",
    "male_data=[]\n",
    "with open(\"male_train_data.csv\", \"r\") as csv_file:\n",
    "    male_reader = csv.reader(csv_file, delimiter=',')\n",
    "    for row in male_reader:\n",
    "        if row[0] != \"index\":\n",
    "            row[1] = float(row[1])/10\n",
    "            row[2] = float(row[2])/1000\n",
    "            male_data.append([row[1],row[2]])\n",
    "csv_file.close()\n",
    "male_data = np.matrix(male_data)\n",
    "print(male_data[0:10])"
   ]
  },
  {
   "cell_type": "markdown",
   "id": "82d9e722",
   "metadata": {},
   "source": [
    "## Exercise 2"
   ]
  },
  {
   "cell_type": "markdown",
   "id": "4eab7db5",
   "metadata": {},
   "source": [
    "2-a\n",
    "\n",
    "$||y-X\\theta||^{2} = (y-X\\theta)^{T}(y-X\\theta) = y^{T}y - y^{T}X\\theta-\\theta^{T}X^{T}y - \\theta^{T}X^{T}X\\theta = y^{T}y-2y^{T}X\\theta+\\theta^{T}X^{T}X\\theta$\n",
    "\n",
    "$\\frac{\\partial(y^{T}y-2y^{T}X\\theta+\\theta^{T}X^{T}X\\theta)}{\\partial \\theta} = -2X^{T}y+2X^{T}X\\theta$\n",
    "\n",
    "$-2X^{T}y+2X^{T}X\\theta = 0$\n",
    "\n",
    "$\\theta = (X^{T}X)^{-1}X^{T}y$\n",
    "\n",
    "The conditions that the solution is unique is X is full rank.\n",
    "\n",
    "Two techniques that can be used when $X^{T}X$ is not invertible are:\n",
    "- regularization\n",
    "- pseudo-inversion\n"
   ]
  },
  {
   "cell_type": "code",
   "execution_count": 216,
   "id": "6d5b954e",
   "metadata": {},
   "outputs": [
    {
     "name": "stdout",
     "output_type": "stream",
     "text": [
      "[[ -0.12339677]\n",
      " [  6.67486843]\n",
      " [-10.7017505 ]]\n"
     ]
    }
   ],
   "source": [
    "#2-b\n",
    "y_male = np.matrix(np.ones(male_data.shape[0])).T\n",
    "y_female = np.matrix(-1*np.ones(female_data.shape[0])).T\n",
    "y = np.vstack((y_male,y_female))\n",
    "X = np.vstack((male_data,female_data))\n",
    "bias = np.matrix(np.ones(y.shape[0]))\n",
    "X=np.vstack((X.T,bias)).T\n",
    "theta_direct_solve = np.linalg.inv((X.T)@X)@(X.T)@y\n",
    "print(theta_direct_solve)"
   ]
  },
  {
   "cell_type": "code",
   "execution_count": 217,
   "id": "f462c091",
   "metadata": {},
   "outputs": [
    {
     "name": "stdout",
     "output_type": "stream",
     "text": [
      "[ -0.12339677   6.67486843 -10.7017505 ]\n"
     ]
    }
   ],
   "source": [
    "#2-c\n",
    "d = 3\n",
    "theta = cp.Variable(d)\n",
    "y=np.array(y).reshape((-1,))\n",
    "objective = cp.Minimize(cp.sum_squares(y-X@theta))\n",
    "prob = cp.Problem(objective)\n",
    "prob.solve()\n",
    "theta_vanilla = theta.value\n",
    "print(theta_vanilla)"
   ]
  },
  {
   "cell_type": "markdown",
   "id": "2b498278",
   "metadata": {},
   "source": [
    "2-d\n",
    "\n",
    "As we derived in the 2-a, the gradient of the optimization function is $-2X^{T}y+2X^{T}X\\theta$\n",
    "\n",
    "We have $f(\\theta) = (y-X\\theta)^{T}(y-X\\theta) = y^{T}y-2y^{T}X\\theta+\\theta^{T}X^{T}X\\theta$\n",
    "\n",
    "Throw the constant term, we end up with $f(\\theta) = -2y^{T}X\\theta+\\theta^{T}X^{T}X\\theta$\n",
    "\n",
    "Now, let's map this to the lecture notes equation where $f(x) = \\frac{1}{2}x^{T}Hx+c^{T}x$\n",
    "\n",
    "we have $H = 2X^{T}X,\\ c=(-2y^{T}X)^{T} = -2X^{T}y$\n",
    "\n",
    "Therefore, $\\alpha^{k}= \\frac{\\nabla (f(\\theta)^{k})^{T}d^{k}}{(d^{k})^{T}Hd^{k}}$\n",
    "\n",
    "$\\nabla f(\\theta) = 2X^{T}X\\theta-2X^{T}y$\n",
    "\n",
    "$d^{k} = \\nabla f $\n",
    "\n",
    "Substitue above into equation, we end up with:\n",
    "\n",
    "$\\alpha^{k} = \\frac{(2X^{T}X\\theta-2X^{T}y)^{T}\\nabla f}{(\\nabla f)^{T}2X^{T}X \\nabla f} =\\frac{\\nabla f^{T}X^{T}X\\theta -y^{T}X\\nabla f}{(\\nabla f)^{T}X^{T}X \\nabla f}$"
   ]
  },
  {
   "cell_type": "code",
   "execution_count": 218,
   "id": "8e63dcec",
   "metadata": {},
   "outputs": [
    {
     "name": "stdout",
     "output_type": "stream",
     "text": [
      "[[ -0.12339677]\n",
      " [  6.67486843]\n",
      " [-10.7017505 ]]\n"
     ]
    }
   ],
   "source": [
    "#2-e\n",
    "d = 3\n",
    "y=np.array(y).reshape((-1,1))\n",
    "theta_grad = np.matrix(np.zeros(d)).T\n",
    "XtX = X.T@X\n",
    "\n",
    "for i in range(50000):\n",
    "    grad =2*XtX@theta_grad - 2*X.T@y\n",
    "    alpha = (grad.T@XtX@theta_grad-y.T@X@grad)/(grad.T@XtX@grad)\n",
    "    theta_grad = theta_grad - np.multiply(alpha[0][0],grad)\n",
    "print(theta_grad)"
   ]
  },
  {
   "cell_type": "code",
   "execution_count": 219,
   "id": "aa0dd16b",
   "metadata": {},
   "outputs": [
    {
     "name": "stdout",
     "output_type": "stream",
     "text": [
      "[[ -0.12339677]\n",
      " [  6.67486843]\n",
      " [-10.7017505 ]]\n"
     ]
    },
    {
     "data": {
      "text/plain": [
       "[<matplotlib.lines.Line2D at 0x7f9e5d423cd0>]"
      ]
     },
     "execution_count": 219,
     "metadata": {},
     "output_type": "execute_result"
    },
    {
     "data": {
      "image/png": "[encoded data removed]",
      "text/plain": [
       "<Figure size 576x360 with 1 Axes>"
      ]
     },
     "metadata": {
      "needs_background": "light"
     },
     "output_type": "display_data"
    }
   ],
   "source": [
    "#2-f\n",
    "d = 3\n",
    "y=np.array(y).reshape((-1,1))\n",
    "theta_grad = np.matrix(np.zeros(d)).T\n",
    "XtX = X.T@X\n",
    "loss = np.zeros(50000)\n",
    "N=y.shape[0]\n",
    "\n",
    "for i in range(50000):\n",
    "    grad =2*XtX@theta_grad - 2*X.T@y\n",
    "    alpha =((grad.T@XtX@theta_grad-y.T@X@grad)/(grad.T@XtX@grad))\n",
    "    theta_grad = theta_grad - np.multiply(alpha[0][0],grad)\n",
    "    loss[i] = np.linalg.norm(np.dot(X, theta_grad)-y)**2/N\n",
    "print(theta_grad)\n",
    "fig = plt.figure(figsize = (8,5))   \n",
    "plt.semilogx(loss,'o',linewidth=8)"
   ]
  },
  {
   "cell_type": "code",
   "execution_count": 220,
   "id": "deff0a7e",
   "metadata": {},
   "outputs": [
    {
     "name": "stdout",
     "output_type": "stream",
     "text": [
      "[[ -0.12339677]\n",
      " [  6.67486843]\n",
      " [-10.7017505 ]]\n"
     ]
    }
   ],
   "source": [
    "#2-g\n",
    "d = 3\n",
    "y=np.array(y).reshape((-1,1))\n",
    "theta_grad = np.matrix(np.zeros(d)).T\n",
    "XtX = X.T@X\n",
    "loss = np.zeros(50000)\n",
    "N=y.shape[0]\n",
    "beta = 0.9\n",
    "dJ_old = np.matrix(np.zeros(d)).T\n",
    "\n",
    "for i in range(50000):\n",
    "    dJ = X.T@X@theta_grad - X.T@y\n",
    "    dd = beta*dJ_old + (1-beta)*dJ\n",
    "    alpha  = ((dJ.T@dd) / (dd.T@XtX@dd))\n",
    "    theta_grad  = theta_grad - np.multiply(alpha[0][0],dd)\n",
    "    dJ_old = dJ\n",
    "    loss[i] = np.linalg.norm(np.dot(X, theta_grad)-y)**2/N\n",
    "print(theta_grad)\n"
   ]
  },
  {
   "cell_type": "code",
   "execution_count": 221,
   "id": "dc20a86a",
   "metadata": {},
   "outputs": [
    {
     "data": {
      "text/plain": [
       "[<matplotlib.lines.Line2D at 0x7f9e5da3f790>]"
      ]
     },
     "execution_count": 221,
     "metadata": {},
     "output_type": "execute_result"
    },
    {
     "data": {
      "image/png": "[encoded data removed]",
      "text/plain": [
       "<Figure size 576x360 with 1 Axes>"
      ]
     },
     "metadata": {
      "needs_background": "light"
     },
     "output_type": "display_data"
    }
   ],
   "source": [
    "#2-h\n",
    "fig = plt.figure(figsize = (8,5))   \n",
    "plt.semilogx(loss,'o',linewidth=8)"
   ]
  },
  {
   "cell_type": "markdown",
   "id": "9ea639ac",
   "metadata": {},
   "source": [
    "## Exercise 3"
   ]
  },
  {
   "cell_type": "code",
   "execution_count": 223,
   "id": "6ffde717",
   "metadata": {},
   "outputs": [
    {
     "data": {
      "text/plain": [
       "[<matplotlib.lines.Line2D at 0x7f9e5e598280>]"
      ]
     },
     "execution_count": 223,
     "metadata": {},
     "output_type": "execute_result"
    },
    {
     "data": {
      "image/png": "[encoded data removed]",
      "text/plain": [
       "<Figure size 432x288 with 1 Axes>"
      ]
     },
     "metadata": {
      "needs_background": "light"
     },
     "output_type": "display_data"
    }
   ],
   "source": [
    "#3-a\n",
    "plt.plot(np.array(male_data.T)[0],np.array(male_data.T)[1],'bo')\n",
    "plt.plot(np.array(female_data.T)[0],np.array(female_data.T)[1],'rx')\n",
    "x_1=np.linspace(1,8,100)\n",
    "x_2 = np.array(-(theta_grad[0]/theta_grad[1])*x_1-(theta_grad[2]/theta_grad[1])).T\n",
    "plt.plot(x_1,x_2,'k',linewidth=4)"
   ]
  },
  {
   "cell_type": "code",
   "execution_count": 263,
   "id": "720f4cf6",
   "metadata": {},
   "outputs": [
    {
     "name": "stdout",
     "output_type": "stream",
     "text": [
      "Type 1 error of classifying male is 0.14171656686626746\n"
     ]
    }
   ],
   "source": [
    "#b-i\n",
    "female_test = []\n",
    "with open(\"female_test_data.csv\", \"r\") as csv_file:\n",
    "    female_reader = csv.reader(csv_file, delimiter=',')\n",
    "    for row in female_reader:\n",
    "        if row[0] != \"index\":\n",
    "            row[1] = float(row[1])/10\n",
    "            row[2] = float(row[2])/1000\n",
    "            female_test.append([row[1],row[2]])\n",
    "csv_file.close()\n",
    "female_test = np.matrix(female_test)\n",
    "bias = np.ones(female_test.shape[0])\n",
    "female_test = np.vstack((female_test.T,bias)).T\n",
    "y_female_test = female_test@theta_grad\n",
    "male_count = np.sum(np.array(y_female_test.T)[0]>0,axis=0)\n",
    "type_1_err = male_count/female_test.shape[0]\n",
    "print(\"Type 1 error of classifying male is {}\".format(type_1_err))\n"
   ]
  },
  {
   "cell_type": "code",
   "execution_count": 264,
   "id": "7e8ac78b",
   "metadata": {},
   "outputs": [
    {
     "name": "stdout",
     "output_type": "stream",
     "text": [
      "Type 2 error of classifying female is 0.17964071856287425\n"
     ]
    }
   ],
   "source": [
    "#b-ii\n",
    "male_test = []\n",
    "with open(\"male_test_data.csv\", \"r\") as csv_file:\n",
    "    male_reader = csv.reader(csv_file, delimiter=',')\n",
    "    for row in male_reader:\n",
    "        if row[0] != \"index\":\n",
    "            row[1] = float(row[1])/10\n",
    "            row[2] = float(row[2])/1000\n",
    "            male_test.append([row[1],row[2]])\n",
    "csv_file.close()\n",
    "male_test = np.matrix(male_test)\n",
    "bias = np.ones(male_test.shape[0])\n",
    "male_test = np.vstack((male_test.T,bias)).T\n",
    "y_male_test = male_test@theta_grad\n",
    "female_count = np.sum(np.array(y_male_test.T)[0]<0,axis=0)\n",
    "type_2_err = female_count/male_test.shape[0]\n",
    "print(\"Type 2 error of classifying female is {}\".format(type_2_err))"
   ]
  },
  {
   "cell_type": "code",
   "execution_count": 265,
   "id": "1d878197",
   "metadata": {},
   "outputs": [
    {
     "name": "stdout",
     "output_type": "stream",
     "text": [
      "The precision of this classifier is 0.8526970954356846\n",
      "The recall of this classifier is 0.8203592814371258\n"
     ]
    }
   ],
   "source": [
    "#b-iii\n",
    "TP = np.sum(np.array(y_male_test.T)[0]>0,axis=0)\n",
    "FP = np.sum(np.array(y_female_test.T)[0]>0,axis=0)\n",
    "FN = np.sum(np.array(y_male_test.T)[0]<0,axis=0)\n",
    "precision = TP/(TP+FP)\n",
    "recall = TP/(TP+FN)\n",
    "print(\"The precision of this classifier is {}\".format(precision))\n",
    "print(\"The recall of this classifier is {}\".format(recall))"
   ]
  },
  {
   "cell_type": "markdown",
   "id": "8b008081",
   "metadata": {},
   "source": [
    "## Exercise 4"
   ]
  },
  {
   "cell_type": "code",
   "execution_count": 273,
   "id": "94aa8a42",
   "metadata": {},
   "outputs": [
    {
     "name": "stdout",
     "output_type": "stream",
     "text": [
      "(3224, 3)\n"
     ]
    },
    {
     "data": {
      "text/plain": [
       "Text(0, 0.5, '$||X\\\\theta_{\\\\lambda}-y||_{2}^{2}$')"
      ]
     },
     "execution_count": 273,
     "metadata": {},
     "output_type": "execute_result"
    },
    {
     "data": {
      "image/png": "[encoded data removed]",
      "text/plain": [
       "<Figure size 432x288 with 1 Axes>"
      ]
     },
     "metadata": {
      "needs_background": "light"
     },
     "output_type": "display_data"
    }
   ],
   "source": [
    "#4-a\n",
    "lamda = np.arange(0.1,10,0.1)\n",
    "y_male = np.matrix(np.ones(male_data.shape[0])).T\n",
    "y_female = np.matrix(-1*np.ones(female_data.shape[0])).T\n",
    "y = np.vstack((y_male,y_female))\n",
    "X = np.vstack((male_data,female_data))\n",
    "bias = np.matrix(np.ones(y.shape[0]))\n",
    "X=np.vstack((X.T,bias)).T\n",
    "N=y.shape[0]\n",
    "print(X.shape)\n",
    "theta_norm = []\n",
    "loss_norm = []\n",
    "for each in lamda:\n",
    "    theta_tmp = np.linalg.inv(X.T@X+each*np.eye(X.shape[1]))@X.T@y\n",
    "    norm_tmp = np.linalg.norm(np.dot(X, theta_tmp)-y)**2/N\n",
    "    norm_theta = np.linalg.norm(theta_tmp)**2/N\n",
    "    loss_norm.append(norm_tmp)\n",
    "    theta_norm.append(norm_theta)\n",
    "plt.plot(theta_norm,loss_norm)\n",
    "plt.xlabel(r\"$||\\theta||_{2}^{2}$\")\n",
    "plt.ylabel(r\"$||X\\theta_{\\lambda}-y||_{2}^{2}$\")"
   ]
  },
  {
   "cell_type": "code",
   "execution_count": 274,
   "id": "391b215b",
   "metadata": {},
   "outputs": [
    {
     "data": {
      "text/plain": [
       "Text(0, 0.5, '$||X\\\\theta_{\\\\lambda}-y||_{2}^{2}$')"
      ]
     },
     "execution_count": 274,
     "metadata": {},
     "output_type": "execute_result"
    },
    {
     "data": {
      "image/png": "[encoded data removed]",
      "text/plain": [
       "<Figure size 432x288 with 1 Axes>"
      ]
     },
     "metadata": {
      "needs_background": "light"
     },
     "output_type": "display_data"
    }
   ],
   "source": [
    "plt.plot(lamda,loss_norm)\n",
    "plt.xlabel(r\"$\\lambda$\")\n",
    "plt.ylabel(r\"$||X\\theta_{\\lambda}-y||_{2}^{2}$\")"
   ]
  },
  {
   "cell_type": "code",
   "execution_count": 275,
   "id": "08c9e80a",
   "metadata": {},
   "outputs": [
    {
     "data": {
      "text/plain": [
       "Text(0, 0.5, '$||\\\\theta||_{2}^{2}$')"
      ]
     },
     "execution_count": 275,
     "metadata": {},
     "output_type": "execute_result"
    },
    {
     "data": {
      "image/png": "[encoded data removed]",
      "text/plain": [
       "<Figure size 432x288 with 1 Axes>"
      ]
     },
     "metadata": {
      "needs_background": "light"
     },
     "output_type": "display_data"
    }
   ],
   "source": [
    "plt.plot(lamda,theta_norm)\n",
    "plt.xlabel(r\"$\\lambda$\")\n",
    "plt.ylabel(r\"$||\\theta||_{2}^{2}$\")"
   ]
  },
  {
   "cell_type": "markdown",
   "id": "78d1e1f6",
   "metadata": {},
   "source": [
    "#4-b-i\n",
    "\n",
    "For equation 4, rearrange the constraints, we have \n",
    "\n",
    "$\\underset{\\theta \\in R^{d}}{\\mathrm{argmin}} ||X\\theta-y||_{2}^{2}$, subject to $\\alpha-||\\theta||_{2}^{2}\\geq 0$\n",
    "\n",
    "Lagrangian for 4 is: $\\mathcal{L}(\\theta,\\gamma_{\\alpha}) = ||X\\theta-y||_{2}^{2}-\\sum_{i=1}^{i=100}\\gamma_{\\alpha i}(\\alpha-||\\theta_{i}||_{2}^{2})$\n",
    "\n",
    "For equation 5, rearrange the constraints, we have\n",
    "\n",
    "$\\underset{\\theta \\in R^{d}}{\\mathrm{argmin}} ||\\theta||_{2}^{2}$, subject to $\\epsilon-||X\\theta-y||_{2}^{2}\\geq 0$\n",
    "\n",
    "Lagrangian for 5 is: $\\mathcal{L}(\\theta,\\gamma_{\\epsilon}) = ||\\theta||_{2}^{2}-\\sum_{i=1}^{i=100}\\gamma_{\\epsilon i}(\\epsilon-||X\\theta_{i}-y||_{2}^{2})$"
   ]
  },
  {
   "cell_type": "code",
   "execution_count": null,
   "id": "4912401a",
   "metadata": {},
   "outputs": [],
   "source": [
    "#4-b-ii"
   ]
  }
 ],
 "metadata": {
  "kernelspec": {
   "display_name": "Python 3",
   "language": "python",
   "name": "python3"
  },
  "language_info": {
   "codemirror_mode": {
    "name": "ipython",
    "version": 3
   },
   "file_extension": ".py",
   "mimetype": "text/x-python",
   "name": "python",
   "nbconvert_exporter": "python",
   "pygments_lexer": "ipython3",
   "version": "3.8.3"
  }
 },
 "nbformat": 4,
 "nbformat_minor": 5
}
