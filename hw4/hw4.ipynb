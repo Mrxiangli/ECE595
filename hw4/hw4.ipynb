{
  "nbformat": 4,
  "nbformat_minor": 0,
  "metadata": {
    "colab": {
      "name": "hw4.ipynb",
      "provenance": [],
      "collapsed_sections": []
    },
    "kernelspec": {
      "name": "python3",
      "display_name": "Python 3"
    },
    "language_info": {
      "name": "python"
    }
  },
  "cells": [
    {
      "cell_type": "code",
      "execution_count": null,
      "metadata": {
        "colab": {
          "base_uri": "https://localhost:8080/",
          "height": 322
        },
        "id": "ZlEA1xyOSx8i",
        "outputId": "7392f315-b3b5-453c-98d7-33c29d817ee9"
      },
      "outputs": [
        {
          "output_type": "display_data",
          "data": {
            "image/png": "[encoded data removed]",
            "text/plain": [
              "<Figure size 432x288 with 1 Axes>"
            ]
          },
          "metadata": {
            "needs_background": "light"
          }
        },
        {
          "output_type": "stream",
          "name": "stdout",
          "text": [
            "[[  2.37857446]\n",
            " [  1.49754408]\n",
            " [-10.43645355]]\n"
          ]
        }
      ],
      "source": [
        "# 2-c\n",
        "import numpy as np\n",
        "import matplotlib.pyplot as plt\n",
        "import cvxpy as cvx\n",
        "import scipy.stats as stats\n",
        "\n",
        "N=100\n",
        "\n",
        "class_0=np.loadtxt(\"data/homework4_class0.txt\")\n",
        "class_1=np.loadtxt(\"data/homework4_class1.txt\")\n",
        "bias = np.matrix(np.ones(100)).T\n",
        "X = np.vstack((class_0,class_1))\n",
        "X = np.hstack((X,bias))\n",
        "y = np.vstack((np.matrix(np.zeros(50)).T,np.matrix(np.ones(50)).T))\n",
        "\n",
        "#==== CVX =====#\n",
        "lam = 0.0001\n",
        "theta       = cvx.Variable((3,1))\n",
        "loss        = - cvx.sum(cvx.multiply(y, X @ theta)) \\\n",
        "              + cvx.sum(cvx.log_sum_exp( cvx.hstack([np.zeros((N,1)), X @ theta]), axis=1 ) )\n",
        "reg         = cvx.sum_squares(theta)\n",
        "prob        = cvx.Problem(cvx.Minimize(loss/N + lam*reg))\n",
        "prob.solve()\n",
        "w = theta.value\n",
        "#==============#\n",
        "\n",
        "plt.plot(X[0:50,0],X[0:50,1],'ro',markersize=5)\n",
        "plt.plot(X[50:100, 0],X[50:100,1],'bo',markersize=5)\n",
        "\n",
        "pos_i, pos_j = [] , []\n",
        "neg_i, neg_j = [] , []\n",
        "test_p = np.linspace(-5,10, 100)\n",
        "test_plot = np.zeros((100,100))\n",
        "boundary = np.zeros((100,100))\n",
        "for iter_i,i in enumerate(test_p):\n",
        "  for iter_j, j in enumerate(test_p):\n",
        "    out = 1/(1+np.exp(-(w[0]*i+w[1]*j + w[2])))\n",
        "    if out > 0.5: \n",
        "      dec = 1\n",
        "      pos_i.append(i)\n",
        "      pos_j.append(j)\n",
        "    else: \n",
        "      dec = 0\n",
        "      neg_i.append(i)\n",
        "      neg_j.append(j)      \n",
        "    test_plot[iter_i,iter_j] = dec\n",
        "    boundary[iter_i,iter_j] = out\n",
        "\n",
        "plt.scatter(pos_i,pos_j,color = '#D3D3D3')\n",
        "plt.scatter(neg_i,neg_j,color = '#ffffff')\n",
        "plt.contour(test_p, test_p, boundary.T>=0.5, linewidths=2, colors='k')\n",
        "plt.show()\n",
        "\n",
        "print(w)"
      ]
    },
    {
      "cell_type": "code",
      "source": [
        "# 2-d \n",
        "mu0 = [np.mean(class_0[0:50,0]),np.mean(class_0[0:50,1])]\n",
        "mu1 = [np.mean(class_1[0:50,0]),np.mean(class_1[0:50,1])]\n",
        "cov0 = np.cov(class_0.T)\n",
        "cov1 = np.cov(class_1.T)\n",
        "inv_cov0 = np.linalg.inv(cov0)\n",
        "inv_cov1 = np.linalg.inv(cov1)\n",
        "det_cov0 = np.linalg.det(cov0)\n",
        "det_cov1 = np.linalg.det(cov1)\n",
        "\n",
        "p0=0.5\n",
        "p1=0.5\n",
        "\n",
        "pos_i, pos_j = [] , []\n",
        "neg_i, neg_j = [] , []\n",
        "test_p = np.linspace(-5,10, 100)\n",
        "test_plot = np.zeros((100,100))\n",
        "boundary = np.zeros((100,100))\n",
        "for iter_i,i in enumerate(test_p):\n",
        "  for iter_j, j in enumerate(test_p):\n",
        "    test_point=np.array([i,j])\n",
        "    c1 = (-1/2)*(test_point-mu1).T@inv_cov1@(test_point-mu1)+np.log(p1)-(1/2)*np.log(det_cov1)\n",
        "    c0 = (-1/2)*(test_point-mu0).T@inv_cov0@(test_point-mu0)+np.log(p0)-(1/2)*np.log(det_cov0)  \n",
        "    if c1>c0: \n",
        "      dec = 1\n",
        "      pos_i.append(i)\n",
        "      pos_j.append(j)\n",
        "    else: \n",
        "      dec = 0\n",
        "      neg_i.append(i)\n",
        "      neg_j.append(j)      \n",
        "    test_plot[iter_i,iter_j] = dec\n",
        "    boundary[iter_i,iter_j] = c1/c0\n",
        "\n",
        "plt.scatter(pos_i,pos_j,color = '#D3D3D3')\n",
        "plt.scatter(neg_i,neg_j,color = '#ffffff')\n",
        "\n",
        "plt.plot(X[0:50,0],X[0:50,1],'ro',markersize=5)\n",
        "plt.plot(X[50:100, 0],X[50:100,1],'bo',markersize=5)\n",
        "plt.contour(test_p, test_p, boundary.T>=1, linewidths=2, colors='k')\n",
        "\n",
        "plt.show()\n"
      ],
      "metadata": {
        "id": "kUtB88Sex5el",
        "colab": {
          "base_uri": "https://localhost:8080/",
          "height": 269
        },
        "outputId": "3d33e9cc-c1db-4814-8968-1c4af8a4011a"
      },
      "execution_count": null,
      "outputs": [
        {
          "output_type": "display_data",
          "data": {
            "image/png": "[encoded data removed]",
            "text/plain": [
              "<Figure size 432x288 with 1 Axes>"
            ]
          },
          "metadata": {
            "needs_background": "light"
          }
        }
      ]
    },
    {
      "cell_type": "code",
      "source": [
        "# 3-a\n",
        "#kernel function\n",
        "def kernel(x1,x2,h):\n",
        "   #return np.exp(-((np.linalg.norm(x1-x2))**2)/h)\n",
        "   return np.exp(-np.sum((x1-x2)**2,axis=-1)/h)\n",
        "\n",
        "N=100\n",
        "\n",
        "class_0=np.loadtxt(\"data/homework4_class0.txt\")\n",
        "class_1=np.loadtxt(\"data/homework4_class1.txt\")\n",
        "X = np.hstack((np.hstack((class_0.T,class_1.T)).T, np.ones((N,1))))\n",
        "y = np.vstack((np.matrix(np.zeros(50)).T,np.matrix(np.ones(50)).T))\n",
        "K = np.zeros((100,100))\n",
        "\n",
        "h=1\n",
        "for i in range(100):\n",
        "  for j in range(100):\n",
        "    K[i,j] = kernel(X[i],X[j],h)\n",
        "\n",
        "print(K[47:52,47:52])\n",
        "a = np.linalg.lstsq(K + 0.0001*np.eye(N),y)[0]"
      ],
      "metadata": {
        "colab": {
          "base_uri": "https://localhost:8080/"
        },
        "id": "ToGgIkFRJ9kh",
        "outputId": "5a86f479-9cc9-4fd8-834f-b4e47550b89a"
      },
      "execution_count": null,
      "outputs": [
        {
          "output_type": "stream",
          "name": "stdout",
          "text": [
            "[[1.00000000e+00 5.05310080e-25 6.06536602e-20 4.65474122e-29\n",
            "  4.06890793e-17]\n",
            " [5.05310080e-25 1.00000000e+00 3.95931666e-13 2.69357110e-33\n",
            "  5.38775392e-12]\n",
            " [6.06536602e-20 3.95931666e-13 1.00000000e+00 2.30352619e-65\n",
            "  3.78419625e-34]\n",
            " [4.65474122e-29 2.69357110e-33 2.30352619e-65 1.00000000e+00\n",
            "  2.16278503e-06]\n",
            " [4.06890793e-17 5.38775392e-12 3.78419625e-34 2.16278503e-06\n",
            "  1.00000000e+00]]\n"
          ]
        },
        {
          "output_type": "stream",
          "name": "stderr",
          "text": [
            "/usr/local/lib/python3.7/dist-packages/ipykernel_launcher.py:21: FutureWarning: `rcond` parameter will change to the default of machine precision times ``max(M, N)`` where M and N are the input matrix dimensions.\n",
            "To use the future default and silence this warning we advise to pass `rcond=None`, to keep using the old, explicitly pass `rcond=-1`.\n"
          ]
        }
      ]
    },
    {
      "cell_type": "code",
      "source": [
        "# 3-c\n",
        "N=100\n",
        "\n",
        "class_0=np.loadtxt(\"data/homework4_class0.txt\")\n",
        "class_1=np.loadtxt(\"data/homework4_class1.txt\")\n",
        "X = np.hstack((np.hstack((class_0.T,class_1.T)).T, np.ones((N,1))))\n",
        "y = np.vstack((np.matrix(np.zeros(50)).T,np.matrix(np.ones(50)).T))\n",
        "\n",
        "#==== CVX =====#\n",
        "lam = 0.0001\n",
        "alpha       = cvx.Variable((100,1))\n",
        "loss        = - y.T@K@alpha \\\n",
        "              + cvx.sum(cvx.log_sum_exp( cvx.hstack([np.zeros((N,1)), K @ alpha]), axis=1 ) )\n",
        "reg         = cvx.quad_form(alpha,K)\n",
        "prob        = cvx.Problem(cvx.Minimize(loss/N + lam*reg))\n",
        "prob.solve()\n",
        "a = alpha.value\n",
        "print(a[0:2])"
      ],
      "metadata": {
        "id": "MFaHt0dDUrQb",
        "colab": {
          "base_uri": "https://localhost:8080/"
        },
        "outputId": "e76a7a48-573c-4721-83dd-d152738b5e3d"
      },
      "execution_count": null,
      "outputs": [
        {
          "output_type": "stream",
          "name": "stdout",
          "text": [
            "[[-0.95245074]\n",
            " [-1.21046707]]\n"
          ]
        }
      ]
    },
    {
      "cell_type": "code",
      "source": [
        "# 3-d\n",
        "import sys\n",
        "N=100\n",
        "pos_i, pos_j = [] , []\n",
        "neg_i, neg_j = [] , []\n",
        "\n",
        "test_x = np.linspace(-5,10, 100)\n",
        "test_y = np.linspace(-5,10, 100) \n",
        "test_plot = np.zeros((100,100))\n",
        "boundary = np.zeros((100,100))\n",
        "for iter_i,i in enumerate(test_x):\n",
        "  for iter_j, j in enumerate(test_y):\n",
        "    test_point=np.array([j,i,1])\n",
        "    y=0\n",
        "    for k in range(N):\n",
        "      y+=a[k]*kernel(X[k],test_point,h)\n",
        "    boundary[iter_i,iter_j]= y\n",
        "    if y >0.5: \n",
        "      dec = 1\n",
        "      pos_i.append(i)\n",
        "      pos_j.append(j)\n",
        "    else: \n",
        "      dec = 0\n",
        "      neg_i.append(i)\n",
        "      neg_j.append(j)      \n",
        "    test_plot[iter_i,iter_j] = dec\n",
        "    \n",
        "plt.scatter(pos_j,pos_i,color = '#D3D3D3')\n",
        "plt.scatter(neg_j,neg_i,color = '#ffffff')\n",
        "\n",
        "plt.plot(X[0:50,0],X[0:50,1],'ro',markersize=5)\n",
        "plt.plot(X[50:100, 0],X[50:100,1],'bo',markersize=5)\n",
        "plt.contour(test_x, test_y, boundary>0.5, linewidths=2, colors='k')\n"
      ],
      "metadata": {
        "id": "Fy5VgkPQrSTX",
        "colab": {
          "base_uri": "https://localhost:8080/",
          "height": 287
        },
        "outputId": "c53501c1-669a-45b2-c8e4-ae8f56665142"
      },
      "execution_count": null,
      "outputs": [
        {
          "output_type": "execute_result",
          "data": {
            "text/plain": [
              "<matplotlib.contour.QuadContourSet at 0x7f3bf3497510>"
            ]
          },
          "metadata": {},
          "execution_count": 8
        },
        {
          "output_type": "display_data",
          "data": {
            "image/png": "[encoded data removed]",
            "text/plain": [
              "<Figure size 432x288 with 1 Axes>"
            ]
          },
          "metadata": {
            "needs_background": "light"
          }
        }
      ]
    },
    {
      "cell_type": "code",
      "source": [
        "!unzip hw4_data.zip"
      ],
      "metadata": {
        "id": "Mdp5XWRrFOk4",
        "colab": {
          "base_uri": "https://localhost:8080/"
        },
        "outputId": "b4b695fd-3fcb-4f3c-bb71-3c0c1f23dcea"
      },
      "execution_count": null,
      "outputs": [
        {
          "output_type": "stream",
          "name": "stdout",
          "text": [
            "Archive:  hw4_data.zip\n",
            "   creating: data/\n",
            "  inflating: data/homework4_class0.txt  \n",
            "  inflating: data/homework4_class1.txt  \n"
          ]
        }
      ]
    }
  ]
}